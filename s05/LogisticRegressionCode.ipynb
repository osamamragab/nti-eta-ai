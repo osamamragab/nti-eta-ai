{
 "cells": [
  {
   "cell_type": "code",
   "execution_count": null,
   "id": "6122a494",
   "metadata": {},
   "outputs": [],
   "source": [
    "#Importing Required Libraries\n",
    "# Load libraries\n",
    "import pandas as pd\n",
    "import numpy as np\n",
    "from sklearn.linear_model import LogisticRegression   #Import the relevant model\n",
    "from sklearn.model_selection import train_test_split # Import train_test_split function\n",
    "from sklearn import metrics #Import scikit-learn metrics module for accuracy calculation\n",
    "from sklearn.metrics import accuracy_score"
   ]
  },
  {
   "cell_type": "code",
   "execution_count": null,
   "id": "86b7da70",
   "metadata": {},
   "outputs": [],
   "source": [
    "#Loading dataset\n",
    "col_names = ['pregnant', 'glucose', 'bp', 'skin', 'insulin', 'bmi', \n",
    "             'pedigree', 'age', 'label']\n",
    "# load dataset\n",
    "df = pd.read_csv(\"diabetes.csv\", names=col_names)"
   ]
  },
  {
   "cell_type": "code",
   "execution_count": null,
   "id": "5e45b85c",
   "metadata": {},
   "outputs": [],
   "source": [
    "df.head()"
   ]
  },
  {
   "cell_type": "code",
   "execution_count": null,
   "id": "4a51ba23",
   "metadata": {},
   "outputs": [],
   "source": [
    "#split dataset in features and target variable\n",
    "feature_cols = ['pregnant', 'insulin', 'bmi', 'age','glucose','bp','pedigree']\n",
    "X = df[feature_cols] # Features\n",
    "y = df.label # Target variable"
   ]
  },
  {
   "cell_type": "code",
   "execution_count": null,
   "id": "f9c52d8b",
   "metadata": {},
   "outputs": [],
   "source": [
    "# Split dataset into training set and test set\n",
    "X_train, X_test, y_train, y_test = train_test_split(X, y, test_size=0.3, random_state=1) \n",
    "# 70% training and 30% test"
   ]
  },
  {
   "cell_type": "code",
   "execution_count": null,
   "id": "a172ba89",
   "metadata": {},
   "outputs": [],
   "source": [
    "model = LogisticRegression()  #Create an instance of the model.\n",
    "\n",
    "model.fit(X_train, y_train)  # Train the model using training data"
   ]
  },
  {
   "cell_type": "code",
   "execution_count": null,
   "id": "c96fb456",
   "metadata": {},
   "outputs": [],
   "source": [
    "#STEP 8: TESTING THE MODEL BY PREDICTING ON TEST DATA\n",
    "#AND Calculate the accuracy score\n",
    "prediction_test = model.predict(X_test)\n",
    "print(prediction_test)\n",
    "from sklearn import metrics\n",
    "#Print the prediction accuracy\n",
    "print (\"Accuracy = \", metrics.accuracy_score(y_test, prediction_test))"
   ]
  },
  {
   "cell_type": "code",
   "execution_count": null,
   "id": "08b98aa5",
   "metadata": {},
   "outputs": [],
   "source": [
    "# Calculate and print the classification report\n",
    "classification_report = metrics.classification_report(y_test, prediction_test)\n",
    "print(\"\\nClassification Report:\\n\", classification_report)"
   ]
  },
  {
   "cell_type": "code",
   "execution_count": null,
   "id": "ae98d7c5",
   "metadata": {},
   "outputs": [],
   "source": [
    "# Calculate and print the confusion matrix\n",
    "confusion_matrix = metrics.confusion_matrix(y_test, prediction_test)\n",
    "print(\"\\nConfusion Matrix:\\n\", confusion_matrix)"
   ]
  },
  {
   "cell_type": "code",
   "execution_count": null,
   "id": "720f3dd6",
   "metadata": {},
   "outputs": [],
   "source": []
  }
 ],
 "metadata": {
  "kernelspec": {
   "display_name": "Python 3 (ipykernel)",
   "language": "python",
   "name": "python3"
  },
  "language_info": {
   "codemirror_mode": {
    "name": "ipython",
    "version": 3
   },
   "file_extension": ".py",
   "mimetype": "text/x-python",
   "name": "python",
   "nbconvert_exporter": "python",
   "pygments_lexer": "ipython3",
   "version": "3.9.13"
  }
 },
 "nbformat": 4,
 "nbformat_minor": 5
}
