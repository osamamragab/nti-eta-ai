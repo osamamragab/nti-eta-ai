{
 "cells": [
  {
   "cell_type": "code",
   "execution_count": 10,
   "id": "fdfa47d7-d5ed-403d-8888-e9f82a01ba2a",
   "metadata": {},
   "outputs": [],
   "source": [
    "import tensorflow as tf\n",
    "from tensorflow.keras.models import Sequential\n",
    "from tensorflow.keras.layers import SimpleRNN, Dense, Input\n",
    "from tensorflow.keras.datasets import mnist\n",
    "from tensorflow.keras.utils import to_categorical"
   ]
  },
  {
   "cell_type": "code",
   "execution_count": 11,
   "id": "de784f28-44a3-4fa2-abcb-532e733f018f",
   "metadata": {},
   "outputs": [],
   "source": [
    "(train_images, train_labels), (test_images, test_labels) = mnist.load_data()\n",
    "train_images = train_images.reshape((60000, 28, 28)) / 255\n",
    "test_images = test_images.reshape((10000, 28, 28)) / 255\n",
    "train_labels = to_categorical(train_labels)\n",
    "test_labels = to_categorical(test_labels)"
   ]
  },
  {
   "cell_type": "code",
   "execution_count": 13,
   "id": "c87ad897-c224-4d6f-b17e-973e87f44caa",
   "metadata": {},
   "outputs": [],
   "source": [
    "model = Sequential([\n",
    "    Input(shape=(28, 28)),\n",
    "    SimpleRNN(128, activation=\"relu\"),\n",
    "    Dense(10, activation=\"softmax\"),\n",
    "])\n",
    "model.compile(optimizer=\"adam\", loss=\"categorical_crossentropy\", metrics=[\"accuracy\"])"
   ]
  },
  {
   "cell_type": "code",
   "execution_count": 14,
   "id": "ffbcbb0d-ee95-499c-82e7-1d326d5758df",
   "metadata": {},
   "outputs": [
    {
     "name": "stdout",
     "output_type": "stream",
     "text": [
      "Epoch 1/20\n",
      "\u001b[1m750/750\u001b[0m \u001b[32m━━━━━━━━━━━━━━━━━━━━\u001b[0m\u001b[37m\u001b[0m \u001b[1m38s\u001b[0m 40ms/step - accuracy: 0.7027 - loss: 0.8709 - val_accuracy: 0.9187 - val_loss: 0.2596\n",
      "Epoch 2/20\n",
      "\u001b[1m750/750\u001b[0m \u001b[32m━━━━━━━━━━━━━━━━━━━━\u001b[0m\u001b[37m\u001b[0m \u001b[1m26s\u001b[0m 35ms/step - accuracy: 0.9291 - loss: 0.2355 - val_accuracy: 0.9277 - val_loss: 0.2273\n",
      "Epoch 3/20\n",
      "\u001b[1m750/750\u001b[0m \u001b[32m━━━━━━━━━━━━━━━━━━━━\u001b[0m\u001b[37m\u001b[0m \u001b[1m29s\u001b[0m 39ms/step - accuracy: 0.9490 - loss: 0.1741 - val_accuracy: 0.9485 - val_loss: 0.1708\n",
      "Epoch 4/20\n",
      "\u001b[1m750/750\u001b[0m \u001b[32m━━━━━━━━━━━━━━━━━━━━\u001b[0m\u001b[37m\u001b[0m \u001b[1m27s\u001b[0m 37ms/step - accuracy: 0.9591 - loss: 0.1424 - val_accuracy: 0.9667 - val_loss: 0.1118\n",
      "Epoch 5/20\n",
      "\u001b[1m750/750\u001b[0m \u001b[32m━━━━━━━━━━━━━━━━━━━━\u001b[0m\u001b[37m\u001b[0m \u001b[1m38s\u001b[0m 33ms/step - accuracy: 0.9629 - loss: 0.1263 - val_accuracy: 0.9653 - val_loss: 0.1210\n",
      "Epoch 6/20\n",
      "\u001b[1m750/750\u001b[0m \u001b[32m━━━━━━━━━━━━━━━━━━━━\u001b[0m\u001b[37m\u001b[0m \u001b[1m41s\u001b[0m 33ms/step - accuracy: 0.9669 - loss: 0.1120 - val_accuracy: 0.9677 - val_loss: 0.1221\n",
      "Epoch 7/20\n",
      "\u001b[1m750/750\u001b[0m \u001b[32m━━━━━━━━━━━━━━━━━━━━\u001b[0m\u001b[37m\u001b[0m \u001b[1m27s\u001b[0m 36ms/step - accuracy: 0.9658 - loss: 0.1166 - val_accuracy: 0.9599 - val_loss: 0.1367\n",
      "Epoch 8/20\n",
      "\u001b[1m750/750\u001b[0m \u001b[32m━━━━━━━━━━━━━━━━━━━━\u001b[0m\u001b[37m\u001b[0m \u001b[1m25s\u001b[0m 33ms/step - accuracy: 0.9705 - loss: 0.1028 - val_accuracy: 0.9730 - val_loss: 0.0952\n",
      "Epoch 9/20\n",
      "\u001b[1m750/750\u001b[0m \u001b[32m━━━━━━━━━━━━━━━━━━━━\u001b[0m\u001b[37m\u001b[0m \u001b[1m25s\u001b[0m 33ms/step - accuracy: 0.9747 - loss: 0.0880 - val_accuracy: 0.9599 - val_loss: 0.1373\n",
      "Epoch 10/20\n",
      "\u001b[1m750/750\u001b[0m \u001b[32m━━━━━━━━━━━━━━━━━━━━\u001b[0m\u001b[37m\u001b[0m \u001b[1m26s\u001b[0m 34ms/step - accuracy: 0.9736 - loss: 0.0914 - val_accuracy: 0.9707 - val_loss: 0.1048\n",
      "Epoch 11/20\n",
      "\u001b[1m750/750\u001b[0m \u001b[32m━━━━━━━━━━━━━━━━━━━━\u001b[0m\u001b[37m\u001b[0m \u001b[1m26s\u001b[0m 34ms/step - accuracy: 0.9760 - loss: 0.0836 - val_accuracy: 0.9689 - val_loss: 0.1163\n",
      "Epoch 12/20\n",
      "\u001b[1m750/750\u001b[0m \u001b[32m━━━━━━━━━━━━━━━━━━━━\u001b[0m\u001b[37m\u001b[0m \u001b[1m28s\u001b[0m 37ms/step - accuracy: 0.9745 - loss: 0.0848 - val_accuracy: 0.9684 - val_loss: 0.1051\n",
      "Epoch 13/20\n",
      "\u001b[1m750/750\u001b[0m \u001b[32m━━━━━━━━━━━━━━━━━━━━\u001b[0m\u001b[37m\u001b[0m \u001b[1m26s\u001b[0m 34ms/step - accuracy: 0.9771 - loss: 0.0797 - val_accuracy: 0.9765 - val_loss: 0.0882\n",
      "Epoch 14/20\n",
      "\u001b[1m750/750\u001b[0m \u001b[32m━━━━━━━━━━━━━━━━━━━━\u001b[0m\u001b[37m\u001b[0m \u001b[1m27s\u001b[0m 36ms/step - accuracy: 0.9775 - loss: 0.0759 - val_accuracy: 0.9693 - val_loss: 0.1121\n",
      "Epoch 15/20\n",
      "\u001b[1m750/750\u001b[0m \u001b[32m━━━━━━━━━━━━━━━━━━━━\u001b[0m\u001b[37m\u001b[0m \u001b[1m39s\u001b[0m 34ms/step - accuracy: 0.9785 - loss: 0.0747 - val_accuracy: 0.9736 - val_loss: 0.0959\n",
      "Epoch 16/20\n",
      "\u001b[1m750/750\u001b[0m \u001b[32m━━━━━━━━━━━━━━━━━━━━\u001b[0m\u001b[37m\u001b[0m \u001b[1m28s\u001b[0m 37ms/step - accuracy: 0.9791 - loss: 0.0709 - val_accuracy: 0.9759 - val_loss: 0.0949\n",
      "Epoch 17/20\n",
      "\u001b[1m750/750\u001b[0m \u001b[32m━━━━━━━━━━━━━━━━━━━━\u001b[0m\u001b[37m\u001b[0m \u001b[1m38s\u001b[0m 33ms/step - accuracy: 0.9797 - loss: 0.0712 - val_accuracy: 0.9684 - val_loss: 0.1204\n",
      "Epoch 18/20\n",
      "\u001b[1m750/750\u001b[0m \u001b[32m━━━━━━━━━━━━━━━━━━━━\u001b[0m\u001b[37m\u001b[0m \u001b[1m25s\u001b[0m 34ms/step - accuracy: 0.9769 - loss: 0.0790 - val_accuracy: 0.9697 - val_loss: 0.1015\n",
      "Epoch 19/20\n",
      "\u001b[1m750/750\u001b[0m \u001b[32m━━━━━━━━━━━━━━━━━━━━\u001b[0m\u001b[37m\u001b[0m \u001b[1m26s\u001b[0m 34ms/step - accuracy: 0.9783 - loss: 0.0735 - val_accuracy: 0.9755 - val_loss: 0.0939\n",
      "Epoch 20/20\n",
      "\u001b[1m750/750\u001b[0m \u001b[32m━━━━━━━━━━━━━━━━━━━━\u001b[0m\u001b[37m\u001b[0m \u001b[1m26s\u001b[0m 34ms/step - accuracy: 0.9816 - loss: 0.0636 - val_accuracy: 0.9799 - val_loss: 0.0773\n"
     ]
    },
    {
     "data": {
      "text/plain": [
       "<keras.src.callbacks.history.History at 0x7f29f4923d10>"
      ]
     },
     "execution_count": 14,
     "metadata": {},
     "output_type": "execute_result"
    }
   ],
   "source": [
    "model.fit(train_images, train_labels, epochs=20, batch_size=64, validation_split=0.2)"
   ]
  },
  {
   "cell_type": "code",
   "execution_count": 15,
   "id": "3999bd17-7246-4261-8826-ec15f684e0f5",
   "metadata": {},
   "outputs": [
    {
     "name": "stdout",
     "output_type": "stream",
     "text": [
      "\u001b[1m313/313\u001b[0m \u001b[32m━━━━━━━━━━━━━━━━━━━━\u001b[0m\u001b[37m\u001b[0m \u001b[1m4s\u001b[0m 14ms/step - accuracy: 0.9769 - loss: 0.0817\n",
      "accuracy 98.05999994277954\n"
     ]
    }
   ],
   "source": [
    "test_loss, test_acc = model.evaluate(test_images, test_labels)\n",
    "print(\"accuracy\", test_acc * 100)"
   ]
  },
  {
   "cell_type": "code",
   "execution_count": 16,
   "id": "ace71c8d-dcfc-4b18-a7dd-421a0d03117c",
   "metadata": {},
   "outputs": [
    {
     "name": "stdout",
     "output_type": "stream",
     "text": [
      "\u001b[1m313/313\u001b[0m \u001b[32m━━━━━━━━━━━━━━━━━━━━\u001b[0m\u001b[37m\u001b[0m \u001b[1m4s\u001b[0m 12ms/step\n"
     ]
    },
    {
     "data": {
      "text/plain": [
       "array([[3.07071257e-10, 3.44495220e-07, 2.79617461e-06, ...,\n",
       "        9.99995053e-01, 1.51662487e-08, 1.24758195e-08],\n",
       "       [1.57854903e-12, 6.69341631e-08, 9.99999702e-01, ...,\n",
       "        2.08214646e-09, 1.21011118e-10, 9.54651024e-15],\n",
       "       [1.39337590e-08, 9.99990404e-01, 2.57592251e-06, ...,\n",
       "        4.34152469e-07, 2.10744338e-06, 1.82137640e-07],\n",
       "       ...,\n",
       "       [3.83616804e-13, 7.24430627e-10, 7.36814429e-11, ...,\n",
       "        4.08708907e-08, 5.56043688e-07, 6.70384834e-05],\n",
       "       [8.79941342e-10, 1.95184784e-13, 1.80815196e-09, ...,\n",
       "        2.85638492e-11, 1.25005763e-05, 7.83882825e-08],\n",
       "       [5.64781487e-07, 2.66833364e-08, 4.85038299e-07, ...,\n",
       "        6.46589499e-13, 4.86689178e-09, 1.80863148e-12]], dtype=float32)"
      ]
     },
     "execution_count": 16,
     "metadata": {},
     "output_type": "execute_result"
    }
   ],
   "source": [
    "predicted_values = model.predict(test_images)\n",
    "predicted_values"
   ]
  },
  {
   "cell_type": "code",
   "execution_count": 21,
   "id": "b9db096e-51e1-48a5-b0d1-379b94dcefb8",
   "metadata": {},
   "outputs": [
    {
     "data": {
      "text/plain": [
       "np.int64(9)"
      ]
     },
     "execution_count": 21,
     "metadata": {},
     "output_type": "execute_result"
    }
   ],
   "source": [
    "import numpy as np\n",
    "classes = np.argmax(predicted_values, axis=-1)\n",
    "classes[20]"
   ]
  },
  {
   "cell_type": "code",
   "execution_count": null,
   "id": "5156ed78-14c8-4b7f-a6ad-58511dbc7fe5",
   "metadata": {},
   "outputs": [],
   "source": []
  }
 ],
 "metadata": {
  "kernelspec": {
   "display_name": "Python 3 (ipykernel)",
   "language": "python",
   "name": "python3"
  },
  "language_info": {
   "codemirror_mode": {
    "name": "ipython",
    "version": 3
   },
   "file_extension": ".py",
   "mimetype": "text/x-python",
   "name": "python",
   "nbconvert_exporter": "python",
   "pygments_lexer": "ipython3",
   "version": "3.12.8"
  }
 },
 "nbformat": 4,
 "nbformat_minor": 5
}
